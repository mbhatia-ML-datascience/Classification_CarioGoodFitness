{
 "cells": [
  {
   "cell_type": "markdown",
   "metadata": {
    "papermill": {
     "duration": 0.028439,
     "end_time": "2021-02-23T11:21:44.227145",
     "exception": false,
     "start_time": "2021-02-23T11:21:44.198706",
     "status": "completed"
    },
    "tags": []
   },
   "source": [
    "<h3>About the dataset</h3>\n",
    "A company called Adright is assigned the task to identify the profile of the typical customer for each treadmill product offered by CardioGood Fitness. The market research team decides to investigate whether there are differences across the product lines with respect to customer characteristics. The team decides to collect data on individuals who purchased a treadmill at a CardioGoodFitness retail store during the prior three months. The data are stored in the CardioGoodFitness.csv file. The team identifies the following customer variables to study: product purchased, TM195, TM498, or TM798; gender; age, in years;education, in years; relationship status, single or partnered; annual household income ($); average number of times the customer plans to use the treadmill each week; average number of miles the customer expects to walk/run each week; and self-rated fitness on an 1-to-5 scale, where 1 is poor shape and 5 is excellent shape.\n",
    "\n",
    "<br><h3>What we need to predict</h3>\n",
    "We need to predict which product the customer is likely to buy based on several parameters.\n",
    "\n",
    "<h3>We will do following things in order to come to our conclusion</h3>\n",
    "<ol>\n",
    "<li>Importing Libraries</li>\n",
    "<li>Loading the dataset</li>\n",
    "<li>Do some basic EDA</li>\n",
    "<li>Model the data</li>\n",
    "</ol>\n",
    "\n",
    "\n",
    "\n",
    "\n",
    "\n"
   ]
  },
  {
   "cell_type": "markdown",
   "metadata": {
    "papermill": {
     "duration": 0.027414,
     "end_time": "2021-02-23T11:21:44.281077",
     "exception": false,
     "start_time": "2021-02-23T11:21:44.253663",
     "status": "completed"
    },
    "tags": []
   },
   "source": [
    "<h3>Importing the libraries</h3>"
   ]
  },
  {
   "cell_type": "code",
   "execution_count": 1,
   "metadata": {
    "execution": {
     "iopub.execute_input": "2021-02-23T11:21:44.341919Z",
     "iopub.status.busy": "2021-02-23T11:21:44.341182Z",
     "iopub.status.idle": "2021-02-23T11:21:53.255238Z",
     "shell.execute_reply": "2021-02-23T11:21:53.255881Z"
    },
    "papermill": {
     "duration": 8.946863,
     "end_time": "2021-02-23T11:21:53.256283",
     "exception": false,
     "start_time": "2021-02-23T11:21:44.309420",
     "status": "completed"
    },
    "tags": []
   },
   "outputs": [],
   "source": [
    "#!pip install category_encoders\n",
    "import numpy as np\n",
    "import pandas as pd\n",
    "import seaborn as sns\n",
    "import matplotlib.pyplot as plt\n",
    "%matplotlib inline\n",
    "sns.set(\"notebook\")\n",
    "sns.set_style(\"darkgrid\")\n",
    "from scipy.special import boxcox\n",
    "from sklearn.model_selection import train_test_split\n",
    "from sklearn.linear_model import LogisticRegression\n",
    "from xgboost import XGBClassifier\n",
    "from sklearn.neighbors import KNeighborsClassifier\n",
    "import warnings\n",
    "warnings.filterwarnings('ignore')\n",
    "from sklearn.preprocessing import StandardScaler\n",
    "from sklearn.compose import ColumnTransformer\n",
    "from sklearn.metrics import confusion_matrix,accuracy_score,classification_report\n",
    "from keras.layers import Dense,Dropout\n",
    "from keras.models import Sequential\n",
    "from keras.utils import to_categorical"
   ]
  },
  {
   "cell_type": "markdown",
   "metadata": {
    "papermill": {
     "duration": 0.025609,
     "end_time": "2021-02-23T11:21:53.308493",
     "exception": false,
     "start_time": "2021-02-23T11:21:53.282884",
     "status": "completed"
    },
    "tags": []
   },
   "source": [
    "<h3>Loading the dataset</h3>"
   ]
  },
  {
   "cell_type": "code",
   "execution_count": 2,
   "metadata": {
    "execution": {
     "iopub.execute_input": "2021-02-23T11:21:53.366847Z",
     "iopub.status.busy": "2021-02-23T11:21:53.366131Z",
     "iopub.status.idle": "2021-02-23T11:21:53.472785Z",
     "shell.execute_reply": "2021-02-23T11:21:53.471966Z"
    },
    "papermill": {
     "duration": 0.138497,
     "end_time": "2021-02-23T11:21:53.473001",
     "exception": false,
     "start_time": "2021-02-23T11:21:53.334504",
     "status": "completed"
    },
    "tags": []
   },
   "outputs": [
    {
     "name": "stdout",
     "output_type": "stream",
     "text": [
      "\n",
      "\n",
      "Few Rows\n",
      "  Product  Age  Gender  Education MaritalStatus  Usage  Fitness  Income  Miles\n",
      "0   TM195   18    Male         14        Single      3        4   29562    112\n",
      "1   TM195   19    Male         15        Single      2        3   31836     75\n",
      "2   TM195   19  Female         14     Partnered      4        3   30699     66\n",
      "3   TM195   19    Male         12        Single      3        3   32973     85\n",
      "4   TM195   20    Male         13     Partnered      4        2   35247     47\n",
      "\n",
      "\n",
      "Data Dictionary\n",
      "<class 'pandas.core.frame.DataFrame'>\n",
      "RangeIndex: 180 entries, 0 to 179\n",
      "Data columns (total 9 columns):\n",
      " #   Column         Non-Null Count  Dtype \n",
      "---  ------         --------------  ----- \n",
      " 0   Product        180 non-null    object\n",
      " 1   Age            180 non-null    int64 \n",
      " 2   Gender         180 non-null    object\n",
      " 3   Education      180 non-null    int64 \n",
      " 4   MaritalStatus  180 non-null    object\n",
      " 5   Usage          180 non-null    int64 \n",
      " 6   Fitness        180 non-null    int64 \n",
      " 7   Income         180 non-null    int64 \n",
      " 8   Miles          180 non-null    int64 \n",
      "dtypes: int64(6), object(3)\n",
      "memory usage: 12.8+ KB\n",
      "None\n",
      "\n",
      "\n",
      "Descriptive Statistics\n",
      "           count          mean           std      min       25%      50%  \\\n",
      "Age        180.0     28.788889      6.943498     18.0     24.00     26.0   \n",
      "Education  180.0     15.572222      1.617055     12.0     14.00     16.0   \n",
      "Usage      180.0      3.455556      1.084797      2.0      3.00      3.0   \n",
      "Fitness    180.0      3.311111      0.958869      1.0      3.00      3.0   \n",
      "Income     180.0  53719.577778  16506.684226  29562.0  44058.75  50596.5   \n",
      "Miles      180.0    103.194444     51.863605     21.0     66.00     94.0   \n",
      "\n",
      "                75%       max  \n",
      "Age           33.00      50.0  \n",
      "Education     16.00      21.0  \n",
      "Usage          4.00       7.0  \n",
      "Fitness        4.00       5.0  \n",
      "Income     58668.00  104581.0  \n",
      "Miles        114.75     360.0  \n"
     ]
    }
   ],
   "source": [
    "#Reading Data\n",
    "df=pd.read_csv('../input/cardiogoodfitness/CardioGoodFitness.csv')\n",
    "print(\"\\n\")\n",
    "print(\"Few Rows\")\n",
    "print(df.head())\n",
    "print(\"\\n\")\n",
    "print(\"Data Dictionary\")\n",
    "print(df.info())\n",
    "print(\"\\n\")\n",
    "print(\"Descriptive Statistics\")\n",
    "print(df.describe().T)"
   ]
  },
  {
   "cell_type": "code",
   "execution_count": 3,
   "metadata": {
    "execution": {
     "iopub.execute_input": "2021-02-23T11:21:53.542471Z",
     "iopub.status.busy": "2021-02-23T11:21:53.541697Z",
     "iopub.status.idle": "2021-02-23T11:21:53.556407Z",
     "shell.execute_reply": "2021-02-23T11:21:53.555674Z"
    },
    "papermill": {
     "duration": 0.056225,
     "end_time": "2021-02-23T11:21:53.556556",
     "exception": false,
     "start_time": "2021-02-23T11:21:53.500331",
     "status": "completed"
    },
    "tags": []
   },
   "outputs": [
    {
     "data": {
      "text/html": [
       "<div>\n",
       "<style scoped>\n",
       "    .dataframe tbody tr th:only-of-type {\n",
       "        vertical-align: middle;\n",
       "    }\n",
       "\n",
       "    .dataframe tbody tr th {\n",
       "        vertical-align: top;\n",
       "    }\n",
       "\n",
       "    .dataframe thead th {\n",
       "        text-align: right;\n",
       "    }\n",
       "</style>\n",
       "<table border=\"1\" class=\"dataframe\">\n",
       "  <thead>\n",
       "    <tr style=\"text-align: right;\">\n",
       "      <th></th>\n",
       "      <th>Product</th>\n",
       "      <th>Age</th>\n",
       "      <th>Gender</th>\n",
       "      <th>Education</th>\n",
       "      <th>MaritalStatus</th>\n",
       "      <th>Usage</th>\n",
       "      <th>Fitness</th>\n",
       "      <th>Income</th>\n",
       "      <th>Miles</th>\n",
       "    </tr>\n",
       "  </thead>\n",
       "  <tbody>\n",
       "    <tr>\n",
       "      <th>0</th>\n",
       "      <td>TM195</td>\n",
       "      <td>18</td>\n",
       "      <td>Male</td>\n",
       "      <td>14</td>\n",
       "      <td>Single</td>\n",
       "      <td>3</td>\n",
       "      <td>4</td>\n",
       "      <td>29562</td>\n",
       "      <td>112</td>\n",
       "    </tr>\n",
       "    <tr>\n",
       "      <th>1</th>\n",
       "      <td>TM195</td>\n",
       "      <td>19</td>\n",
       "      <td>Male</td>\n",
       "      <td>15</td>\n",
       "      <td>Single</td>\n",
       "      <td>2</td>\n",
       "      <td>3</td>\n",
       "      <td>31836</td>\n",
       "      <td>75</td>\n",
       "    </tr>\n",
       "    <tr>\n",
       "      <th>2</th>\n",
       "      <td>TM195</td>\n",
       "      <td>19</td>\n",
       "      <td>Female</td>\n",
       "      <td>14</td>\n",
       "      <td>Partnered</td>\n",
       "      <td>4</td>\n",
       "      <td>3</td>\n",
       "      <td>30699</td>\n",
       "      <td>66</td>\n",
       "    </tr>\n",
       "    <tr>\n",
       "      <th>3</th>\n",
       "      <td>TM195</td>\n",
       "      <td>19</td>\n",
       "      <td>Male</td>\n",
       "      <td>12</td>\n",
       "      <td>Single</td>\n",
       "      <td>3</td>\n",
       "      <td>3</td>\n",
       "      <td>32973</td>\n",
       "      <td>85</td>\n",
       "    </tr>\n",
       "    <tr>\n",
       "      <th>4</th>\n",
       "      <td>TM195</td>\n",
       "      <td>20</td>\n",
       "      <td>Male</td>\n",
       "      <td>13</td>\n",
       "      <td>Partnered</td>\n",
       "      <td>4</td>\n",
       "      <td>2</td>\n",
       "      <td>35247</td>\n",
       "      <td>47</td>\n",
       "    </tr>\n",
       "  </tbody>\n",
       "</table>\n",
       "</div>"
      ],
      "text/plain": [
       "  Product  Age  Gender  Education MaritalStatus  Usage  Fitness  Income  Miles\n",
       "0   TM195   18    Male         14        Single      3        4   29562    112\n",
       "1   TM195   19    Male         15        Single      2        3   31836     75\n",
       "2   TM195   19  Female         14     Partnered      4        3   30699     66\n",
       "3   TM195   19    Male         12        Single      3        3   32973     85\n",
       "4   TM195   20    Male         13     Partnered      4        2   35247     47"
      ]
     },
     "execution_count": 3,
     "metadata": {},
     "output_type": "execute_result"
    }
   ],
   "source": [
    "df.head()"
   ]
  },
  {
   "cell_type": "code",
   "execution_count": 4,
   "metadata": {
    "execution": {
     "iopub.execute_input": "2021-02-23T11:21:53.633756Z",
     "iopub.status.busy": "2021-02-23T11:21:53.624452Z",
     "iopub.status.idle": "2021-02-23T11:21:53.685508Z",
     "shell.execute_reply": "2021-02-23T11:21:53.684695Z"
    },
    "papermill": {
     "duration": 0.098908,
     "end_time": "2021-02-23T11:21:53.685706",
     "exception": false,
     "start_time": "2021-02-23T11:21:53.586798",
     "status": "completed"
    },
    "tags": []
   },
   "outputs": [
    {
     "data": {
      "text/html": [
       "<div>\n",
       "<style scoped>\n",
       "    .dataframe tbody tr th:only-of-type {\n",
       "        vertical-align: middle;\n",
       "    }\n",
       "\n",
       "    .dataframe tbody tr th {\n",
       "        vertical-align: top;\n",
       "    }\n",
       "\n",
       "    .dataframe thead th {\n",
       "        text-align: right;\n",
       "    }\n",
       "</style>\n",
       "<table border=\"1\" class=\"dataframe\">\n",
       "  <thead>\n",
       "    <tr style=\"text-align: right;\">\n",
       "      <th>MaritalStatus</th>\n",
       "      <th>Partnered</th>\n",
       "      <th>Single</th>\n",
       "    </tr>\n",
       "    <tr>\n",
       "      <th>Product</th>\n",
       "      <th></th>\n",
       "      <th></th>\n",
       "    </tr>\n",
       "  </thead>\n",
       "  <tbody>\n",
       "    <tr>\n",
       "      <th>TM195</th>\n",
       "      <td>48</td>\n",
       "      <td>32</td>\n",
       "    </tr>\n",
       "    <tr>\n",
       "      <th>TM498</th>\n",
       "      <td>36</td>\n",
       "      <td>24</td>\n",
       "    </tr>\n",
       "    <tr>\n",
       "      <th>TM798</th>\n",
       "      <td>23</td>\n",
       "      <td>17</td>\n",
       "    </tr>\n",
       "  </tbody>\n",
       "</table>\n",
       "</div>"
      ],
      "text/plain": [
       "MaritalStatus  Partnered  Single\n",
       "Product                         \n",
       "TM195                 48      32\n",
       "TM498                 36      24\n",
       "TM798                 23      17"
      ]
     },
     "execution_count": 4,
     "metadata": {},
     "output_type": "execute_result"
    }
   ],
   "source": [
    "pd.crosstab(df['Product'],df['MaritalStatus'])"
   ]
  },
  {
   "cell_type": "code",
   "execution_count": 5,
   "metadata": {
    "execution": {
     "iopub.execute_input": "2021-02-23T11:21:53.775748Z",
     "iopub.status.busy": "2021-02-23T11:21:53.770353Z",
     "iopub.status.idle": "2021-02-23T11:21:53.786650Z",
     "shell.execute_reply": "2021-02-23T11:21:53.785872Z"
    },
    "papermill": {
     "duration": 0.07032,
     "end_time": "2021-02-23T11:21:53.786819",
     "exception": false,
     "start_time": "2021-02-23T11:21:53.716499",
     "status": "completed"
    },
    "tags": []
   },
   "outputs": [
    {
     "data": {
      "text/html": [
       "<div>\n",
       "<style scoped>\n",
       "    .dataframe tbody tr th:only-of-type {\n",
       "        vertical-align: middle;\n",
       "    }\n",
       "\n",
       "    .dataframe tbody tr th {\n",
       "        vertical-align: top;\n",
       "    }\n",
       "\n",
       "    .dataframe thead th {\n",
       "        text-align: right;\n",
       "    }\n",
       "</style>\n",
       "<table border=\"1\" class=\"dataframe\">\n",
       "  <thead>\n",
       "    <tr style=\"text-align: right;\">\n",
       "      <th>Gender</th>\n",
       "      <th>Female</th>\n",
       "      <th>Male</th>\n",
       "    </tr>\n",
       "    <tr>\n",
       "      <th>Product</th>\n",
       "      <th></th>\n",
       "      <th></th>\n",
       "    </tr>\n",
       "  </thead>\n",
       "  <tbody>\n",
       "    <tr>\n",
       "      <th>TM195</th>\n",
       "      <td>40</td>\n",
       "      <td>40</td>\n",
       "    </tr>\n",
       "    <tr>\n",
       "      <th>TM498</th>\n",
       "      <td>29</td>\n",
       "      <td>31</td>\n",
       "    </tr>\n",
       "    <tr>\n",
       "      <th>TM798</th>\n",
       "      <td>7</td>\n",
       "      <td>33</td>\n",
       "    </tr>\n",
       "  </tbody>\n",
       "</table>\n",
       "</div>"
      ],
      "text/plain": [
       "Gender   Female  Male\n",
       "Product              \n",
       "TM195        40    40\n",
       "TM498        29    31\n",
       "TM798         7    33"
      ]
     },
     "execution_count": 5,
     "metadata": {},
     "output_type": "execute_result"
    }
   ],
   "source": [
    "pd.crosstab(df['Product'],df['Gender'])"
   ]
  },
  {
   "cell_type": "markdown",
   "metadata": {
    "papermill": {
     "duration": 0.029606,
     "end_time": "2021-02-23T11:21:53.846132",
     "exception": false,
     "start_time": "2021-02-23T11:21:53.816526",
     "status": "completed"
    },
    "tags": []
   },
   "source": [
    "<h3>Lets do some basic EDA</h3>\n",
    "We will check if the Age is normally distributed."
   ]
  },
  {
   "cell_type": "code",
   "execution_count": 6,
   "metadata": {
    "execution": {
     "iopub.execute_input": "2021-02-23T11:21:53.934301Z",
     "iopub.status.busy": "2021-02-23T11:21:53.933348Z",
     "iopub.status.idle": "2021-02-23T11:21:54.212726Z",
     "shell.execute_reply": "2021-02-23T11:21:54.213255Z"
    },
    "papermill": {
     "duration": 0.337736,
     "end_time": "2021-02-23T11:21:54.213472",
     "exception": false,
     "start_time": "2021-02-23T11:21:53.875736",
     "status": "completed"
    },
    "tags": []
   },
   "outputs": [
    {
     "name": "stdout",
     "output_type": "stream",
     "text": [
      "26.0\n"
     ]
    },
    {
     "data": {
      "text/plain": [
       "<AxesSubplot:xlabel='Age', ylabel='Density'>"
      ]
     },
     "execution_count": 6,
     "metadata": {},
     "output_type": "execute_result"
    },
    {
     "data": {
      "image/png": "[encoded data removed]",
      "text/plain": [
       "<Figure size 432x288 with 1 Axes>"
      ]
     },
     "metadata": {},
     "output_type": "display_data"
    }
   ],
   "source": [
    "print(df['Age'].median())\n",
    "sns.distplot(df['Age'])"
   ]
  },
  {
   "cell_type": "markdown",
   "metadata": {
    "papermill": {
     "duration": 0.030708,
     "end_time": "2021-02-23T11:21:54.275563",
     "exception": false,
     "start_time": "2021-02-23T11:21:54.244855",
     "status": "completed"
    },
    "tags": []
   },
   "source": [
    "Looks like the Age is normally distributed"
   ]
  },
  {
   "cell_type": "markdown",
   "metadata": {
    "papermill": {
     "duration": 0.030277,
     "end_time": "2021-02-23T11:21:54.337654",
     "exception": false,
     "start_time": "2021-02-23T11:21:54.307377",
     "status": "completed"
    },
    "tags": []
   },
   "source": [
    "Lets check the distribution of target variable"
   ]
  },
  {
   "cell_type": "code",
   "execution_count": 7,
   "metadata": {
    "execution": {
     "iopub.execute_input": "2021-02-23T11:21:54.437770Z",
     "iopub.status.busy": "2021-02-23T11:21:54.436224Z",
     "iopub.status.idle": "2021-02-23T11:21:54.583300Z",
     "shell.execute_reply": "2021-02-23T11:21:54.582467Z"
    },
    "papermill": {
     "duration": 0.214464,
     "end_time": "2021-02-23T11:21:54.583459",
     "exception": false,
     "start_time": "2021-02-23T11:21:54.368995",
     "status": "completed"
    },
    "tags": []
   },
   "outputs": [
    {
     "data": {
      "text/plain": [
       "TM195    80\n",
       "TM498    60\n",
       "TM798    40\n",
       "Name: Product, dtype: int64"
      ]
     },
     "execution_count": 7,
     "metadata": {},
     "output_type": "execute_result"
    },
    {
     "data": {
      "image/png": "[encoded data removed]",
      "text/plain": [
       "<Figure size 432x288 with 1 Axes>"
      ]
     },
     "metadata": {},
     "output_type": "display_data"
    }
   ],
   "source": [
    "sns.countplot(df['Product'])\n",
    "df['Product'].value_counts()"
   ]
  },
  {
   "cell_type": "code",
   "execution_count": 8,
   "metadata": {
    "execution": {
     "iopub.execute_input": "2021-02-23T11:21:54.671899Z",
     "iopub.status.busy": "2021-02-23T11:21:54.656349Z",
     "iopub.status.idle": "2021-02-23T11:21:55.191666Z",
     "shell.execute_reply": "2021-02-23T11:21:55.192184Z"
    },
    "papermill": {
     "duration": 0.576748,
     "end_time": "2021-02-23T11:21:55.192379",
     "exception": false,
     "start_time": "2021-02-23T11:21:54.615631",
     "status": "completed"
    },
    "tags": []
   },
   "outputs": [
    {
     "data": {
      "text/plain": [
       "<AxesSubplot:>"
      ]
     },
     "execution_count": 8,
     "metadata": {},
     "output_type": "execute_result"
    },
    {
     "data": {
      "image/png": "[encoded data removed]",
      "text/plain": [
       "<Figure size 720x576 with 2 Axes>"
      ]
     },
     "metadata": {},
     "output_type": "display_data"
    }
   ],
   "source": [
    "plt.figure(figsize=(10,8))\n",
    "corr=df.corr()\n",
    "sns.heatmap(corr,square=True,annot=True,cmap='RdYlGn')"
   ]
  },
  {
   "cell_type": "code",
   "execution_count": 9,
   "metadata": {
    "execution": {
     "iopub.execute_input": "2021-02-23T11:21:55.278045Z",
     "iopub.status.busy": "2021-02-23T11:21:55.267451Z",
     "iopub.status.idle": "2021-02-23T11:21:55.284137Z",
     "shell.execute_reply": "2021-02-23T11:21:55.283420Z"
    },
    "papermill": {
     "duration": 0.058417,
     "end_time": "2021-02-23T11:21:55.284291",
     "exception": false,
     "start_time": "2021-02-23T11:21:55.225874",
     "status": "completed"
    },
    "tags": []
   },
   "outputs": [
    {
     "data": {
      "text/html": [
       "<div>\n",
       "<style scoped>\n",
       "    .dataframe tbody tr th:only-of-type {\n",
       "        vertical-align: middle;\n",
       "    }\n",
       "\n",
       "    .dataframe tbody tr th {\n",
       "        vertical-align: top;\n",
       "    }\n",
       "\n",
       "    .dataframe thead th {\n",
       "        text-align: right;\n",
       "    }\n",
       "</style>\n",
       "<table border=\"1\" class=\"dataframe\">\n",
       "  <thead>\n",
       "    <tr style=\"text-align: right;\">\n",
       "      <th></th>\n",
       "      <th>Product</th>\n",
       "      <th>Usage</th>\n",
       "    </tr>\n",
       "  </thead>\n",
       "  <tbody>\n",
       "    <tr>\n",
       "      <th>2</th>\n",
       "      <td>TM798</td>\n",
       "      <td>5</td>\n",
       "    </tr>\n",
       "    <tr>\n",
       "      <th>1</th>\n",
       "      <td>TM498</td>\n",
       "      <td>3</td>\n",
       "    </tr>\n",
       "    <tr>\n",
       "      <th>0</th>\n",
       "      <td>TM195</td>\n",
       "      <td>3</td>\n",
       "    </tr>\n",
       "  </tbody>\n",
       "</table>\n",
       "</div>"
      ],
      "text/plain": [
       "  Product  Usage\n",
       "2   TM798      5\n",
       "1   TM498      3\n",
       "0   TM195      3"
      ]
     },
     "execution_count": 9,
     "metadata": {},
     "output_type": "execute_result"
    }
   ],
   "source": [
    "df[['Product','Usage']].groupby(['Product'],as_index=False).median().sort_values(by='Product',ascending=False)"
   ]
  },
  {
   "cell_type": "code",
   "execution_count": 10,
   "metadata": {
    "execution": {
     "iopub.execute_input": "2021-02-23T11:21:55.365788Z",
     "iopub.status.busy": "2021-02-23T11:21:55.364885Z",
     "iopub.status.idle": "2021-02-23T11:21:55.379973Z",
     "shell.execute_reply": "2021-02-23T11:21:55.380474Z"
    },
    "papermill": {
     "duration": 0.061373,
     "end_time": "2021-02-23T11:21:55.380668",
     "exception": false,
     "start_time": "2021-02-23T11:21:55.319295",
     "status": "completed"
    },
    "tags": []
   },
   "outputs": [
    {
     "data": {
      "text/html": [
       "<div>\n",
       "<style scoped>\n",
       "    .dataframe tbody tr th:only-of-type {\n",
       "        vertical-align: middle;\n",
       "    }\n",
       "\n",
       "    .dataframe tbody tr th {\n",
       "        vertical-align: top;\n",
       "    }\n",
       "\n",
       "    .dataframe thead th {\n",
       "        text-align: right;\n",
       "    }\n",
       "</style>\n",
       "<table border=\"1\" class=\"dataframe\">\n",
       "  <thead>\n",
       "    <tr style=\"text-align: right;\">\n",
       "      <th></th>\n",
       "      <th>Product</th>\n",
       "      <th>Fitness</th>\n",
       "    </tr>\n",
       "  </thead>\n",
       "  <tbody>\n",
       "    <tr>\n",
       "      <th>2</th>\n",
       "      <td>TM798</td>\n",
       "      <td>5</td>\n",
       "    </tr>\n",
       "    <tr>\n",
       "      <th>1</th>\n",
       "      <td>TM498</td>\n",
       "      <td>3</td>\n",
       "    </tr>\n",
       "    <tr>\n",
       "      <th>0</th>\n",
       "      <td>TM195</td>\n",
       "      <td>3</td>\n",
       "    </tr>\n",
       "  </tbody>\n",
       "</table>\n",
       "</div>"
      ],
      "text/plain": [
       "  Product  Fitness\n",
       "2   TM798        5\n",
       "1   TM498        3\n",
       "0   TM195        3"
      ]
     },
     "execution_count": 10,
     "metadata": {},
     "output_type": "execute_result"
    }
   ],
   "source": [
    "df[['Product','Fitness']].groupby(['Product'],as_index=False).median().sort_values(by='Product',ascending=False)"
   ]
  },
  {
   "cell_type": "code",
   "execution_count": 11,
   "metadata": {
    "execution": {
     "iopub.execute_input": "2021-02-23T11:21:55.460859Z",
     "iopub.status.busy": "2021-02-23T11:21:55.459406Z",
     "iopub.status.idle": "2021-02-23T11:21:55.465477Z",
     "shell.execute_reply": "2021-02-23T11:21:55.466496Z"
    },
    "papermill": {
     "duration": 0.050653,
     "end_time": "2021-02-23T11:21:55.466761",
     "exception": false,
     "start_time": "2021-02-23T11:21:55.416108",
     "status": "completed"
    },
    "tags": []
   },
   "outputs": [
    {
     "name": "stdout",
     "output_type": "stream",
     "text": [
      "18\n",
      "50\n"
     ]
    }
   ],
   "source": [
    "print(df['Age'].min())\n",
    "print(df['Age'].max())"
   ]
  },
  {
   "cell_type": "markdown",
   "metadata": {
    "papermill": {
     "duration": 0.03668,
     "end_time": "2021-02-23T11:21:55.540353",
     "exception": false,
     "start_time": "2021-02-23T11:21:55.503673",
     "status": "completed"
    },
    "tags": []
   },
   "source": [
    "<h3>Splitting the age into different groups</h3>"
   ]
  },
  {
   "cell_type": "markdown",
   "metadata": {
    "papermill": {
     "duration": 0.03529,
     "end_time": "2021-02-23T11:21:55.611921",
     "exception": false,
     "start_time": "2021-02-23T11:21:55.576631",
     "status": "completed"
    },
    "tags": []
   },
   "source": [
    "<h3>Feature Engineering</h3>\n",
    "Lets do a bit of Feature Engineering.<br>In this simple scenario we will transform Age into different groups. "
   ]
  },
  {
   "cell_type": "code",
   "execution_count": 12,
   "metadata": {
    "execution": {
     "iopub.execute_input": "2021-02-23T11:21:55.692746Z",
     "iopub.status.busy": "2021-02-23T11:21:55.692071Z",
     "iopub.status.idle": "2021-02-23T11:21:55.696226Z",
     "shell.execute_reply": "2021-02-23T11:21:55.695632Z"
    },
    "papermill": {
     "duration": 0.049943,
     "end_time": "2021-02-23T11:21:55.696375",
     "exception": false,
     "start_time": "2021-02-23T11:21:55.646432",
     "status": "completed"
    },
    "tags": []
   },
   "outputs": [],
   "source": [
    "category=pd.cut(df['Age'],bins=[17,26,42,50],labels=['Young','Middle','Senior'])\n",
    "df.insert(3,'Age Group',category)"
   ]
  },
  {
   "cell_type": "code",
   "execution_count": 13,
   "metadata": {
    "execution": {
     "iopub.execute_input": "2021-02-23T11:21:55.782861Z",
     "iopub.status.busy": "2021-02-23T11:21:55.778730Z",
     "iopub.status.idle": "2021-02-23T11:21:56.040403Z",
     "shell.execute_reply": "2021-02-23T11:21:56.039673Z"
    },
    "papermill": {
     "duration": 0.30934,
     "end_time": "2021-02-23T11:21:56.040553",
     "exception": false,
     "start_time": "2021-02-23T11:21:55.731213",
     "status": "completed"
    },
    "tags": []
   },
   "outputs": [
    {
     "data": {
      "text/html": [
       "<div>\n",
       "<style scoped>\n",
       "    .dataframe tbody tr th:only-of-type {\n",
       "        vertical-align: middle;\n",
       "    }\n",
       "\n",
       "    .dataframe tbody tr th {\n",
       "        vertical-align: top;\n",
       "    }\n",
       "\n",
       "    .dataframe thead th {\n",
       "        text-align: right;\n",
       "    }\n",
       "</style>\n",
       "<table border=\"1\" class=\"dataframe\">\n",
       "  <thead>\n",
       "    <tr style=\"text-align: right;\">\n",
       "      <th>Age Group</th>\n",
       "      <th>Young</th>\n",
       "      <th>Middle</th>\n",
       "      <th>Senior</th>\n",
       "    </tr>\n",
       "    <tr>\n",
       "      <th>Product</th>\n",
       "      <th></th>\n",
       "      <th></th>\n",
       "      <th></th>\n",
       "    </tr>\n",
       "  </thead>\n",
       "  <tbody>\n",
       "    <tr>\n",
       "      <th>TM195</th>\n",
       "      <td>41</td>\n",
       "      <td>34</td>\n",
       "      <td>5</td>\n",
       "    </tr>\n",
       "    <tr>\n",
       "      <th>TM498</th>\n",
       "      <td>31</td>\n",
       "      <td>27</td>\n",
       "      <td>2</td>\n",
       "    </tr>\n",
       "    <tr>\n",
       "      <th>TM798</th>\n",
       "      <td>19</td>\n",
       "      <td>18</td>\n",
       "      <td>3</td>\n",
       "    </tr>\n",
       "  </tbody>\n",
       "</table>\n",
       "</div>"
      ],
      "text/plain": [
       "Age Group  Young  Middle  Senior\n",
       "Product                         \n",
       "TM195         41      34       5\n",
       "TM498         31      27       2\n",
       "TM798         19      18       3"
      ]
     },
     "execution_count": 13,
     "metadata": {},
     "output_type": "execute_result"
    }
   ],
   "source": [
    "pd.crosstab(df['Product'],df['Age Group'])"
   ]
  },
  {
   "cell_type": "markdown",
   "metadata": {
    "papermill": {
     "duration": 0.036436,
     "end_time": "2021-02-23T11:21:56.113008",
     "exception": false,
     "start_time": "2021-02-23T11:21:56.076572",
     "status": "completed"
    },
    "tags": []
   },
   "source": [
    "<h3>Modelling the data</h3>"
   ]
  },
  {
   "cell_type": "code",
   "execution_count": 14,
   "metadata": {
    "execution": {
     "iopub.execute_input": "2021-02-23T11:21:56.190705Z",
     "iopub.status.busy": "2021-02-23T11:21:56.190048Z",
     "iopub.status.idle": "2021-02-23T11:21:56.192830Z",
     "shell.execute_reply": "2021-02-23T11:21:56.193362Z"
    },
    "papermill": {
     "duration": 0.045146,
     "end_time": "2021-02-23T11:21:56.193547",
     "exception": false,
     "start_time": "2021-02-23T11:21:56.148401",
     "status": "completed"
    },
    "tags": []
   },
   "outputs": [],
   "source": [
    "X=df.drop(['Product'],axis=1)\n",
    "y=df['Product']"
   ]
  },
  {
   "cell_type": "code",
   "execution_count": 15,
   "metadata": {
    "execution": {
     "iopub.execute_input": "2021-02-23T11:21:56.271720Z",
     "iopub.status.busy": "2021-02-23T11:21:56.270728Z",
     "iopub.status.idle": "2021-02-23T11:21:56.274768Z",
     "shell.execute_reply": "2021-02-23T11:21:56.274046Z"
    },
    "papermill": {
     "duration": 0.046104,
     "end_time": "2021-02-23T11:21:56.274921",
     "exception": false,
     "start_time": "2021-02-23T11:21:56.228817",
     "status": "completed"
    },
    "tags": []
   },
   "outputs": [],
   "source": [
    "X=X.drop(['Age','Education'],axis=1)"
   ]
  },
  {
   "cell_type": "markdown",
   "metadata": {
    "papermill": {
     "duration": 0.035838,
     "end_time": "2021-02-23T11:21:56.349707",
     "exception": false,
     "start_time": "2021-02-23T11:21:56.313869",
     "status": "completed"
    },
    "tags": []
   },
   "source": [
    "<h3>Encoding categorical variables</h3>\n"
   ]
  },
  {
   "cell_type": "code",
   "execution_count": 16,
   "metadata": {
    "execution": {
     "iopub.execute_input": "2021-02-23T11:21:56.427451Z",
     "iopub.status.busy": "2021-02-23T11:21:56.426762Z",
     "iopub.status.idle": "2021-02-23T11:21:56.720273Z",
     "shell.execute_reply": "2021-02-23T11:21:56.719669Z"
    },
    "papermill": {
     "duration": 0.33434,
     "end_time": "2021-02-23T11:21:56.720419",
     "exception": false,
     "start_time": "2021-02-23T11:21:56.386079",
     "status": "completed"
    },
    "tags": []
   },
   "outputs": [],
   "source": [
    "import category_encoders as ce\n",
    "encoder=ce.OrdinalEncoder(cols=['Gender','Age Group','MaritalStatus'],return_df=True,verbose=None)\n",
    "X=encoder.fit_transform(X)"
   ]
  },
  {
   "cell_type": "code",
   "execution_count": 17,
   "metadata": {
    "execution": {
     "iopub.execute_input": "2021-02-23T11:21:56.803826Z",
     "iopub.status.busy": "2021-02-23T11:21:56.802720Z",
     "iopub.status.idle": "2021-02-23T11:21:56.808048Z",
     "shell.execute_reply": "2021-02-23T11:21:56.807445Z"
    },
    "papermill": {
     "duration": 0.051574,
     "end_time": "2021-02-23T11:21:56.808218",
     "exception": false,
     "start_time": "2021-02-23T11:21:56.756644",
     "status": "completed"
    },
    "tags": []
   },
   "outputs": [
    {
     "data": {
      "text/html": [
       "<div>\n",
       "<style scoped>\n",
       "    .dataframe tbody tr th:only-of-type {\n",
       "        vertical-align: middle;\n",
       "    }\n",
       "\n",
       "    .dataframe tbody tr th {\n",
       "        vertical-align: top;\n",
       "    }\n",
       "\n",
       "    .dataframe thead th {\n",
       "        text-align: right;\n",
       "    }\n",
       "</style>\n",
       "<table border=\"1\" class=\"dataframe\">\n",
       "  <thead>\n",
       "    <tr style=\"text-align: right;\">\n",
       "      <th></th>\n",
       "      <th>Gender</th>\n",
       "      <th>Age Group</th>\n",
       "      <th>MaritalStatus</th>\n",
       "      <th>Usage</th>\n",
       "      <th>Fitness</th>\n",
       "      <th>Income</th>\n",
       "      <th>Miles</th>\n",
       "    </tr>\n",
       "  </thead>\n",
       "  <tbody>\n",
       "    <tr>\n",
       "      <th>0</th>\n",
       "      <td>1</td>\n",
       "      <td>1</td>\n",
       "      <td>1</td>\n",
       "      <td>3</td>\n",
       "      <td>4</td>\n",
       "      <td>29562</td>\n",
       "      <td>112</td>\n",
       "    </tr>\n",
       "    <tr>\n",
       "      <th>1</th>\n",
       "      <td>1</td>\n",
       "      <td>1</td>\n",
       "      <td>1</td>\n",
       "      <td>2</td>\n",
       "      <td>3</td>\n",
       "      <td>31836</td>\n",
       "      <td>75</td>\n",
       "    </tr>\n",
       "    <tr>\n",
       "      <th>2</th>\n",
       "      <td>2</td>\n",
       "      <td>1</td>\n",
       "      <td>2</td>\n",
       "      <td>4</td>\n",
       "      <td>3</td>\n",
       "      <td>30699</td>\n",
       "      <td>66</td>\n",
       "    </tr>\n",
       "    <tr>\n",
       "      <th>3</th>\n",
       "      <td>1</td>\n",
       "      <td>1</td>\n",
       "      <td>1</td>\n",
       "      <td>3</td>\n",
       "      <td>3</td>\n",
       "      <td>32973</td>\n",
       "      <td>85</td>\n",
       "    </tr>\n",
       "    <tr>\n",
       "      <th>4</th>\n",
       "      <td>1</td>\n",
       "      <td>1</td>\n",
       "      <td>2</td>\n",
       "      <td>4</td>\n",
       "      <td>2</td>\n",
       "      <td>35247</td>\n",
       "      <td>47</td>\n",
       "    </tr>\n",
       "  </tbody>\n",
       "</table>\n",
       "</div>"
      ],
      "text/plain": [
       "   Gender  Age Group  MaritalStatus  Usage  Fitness  Income  Miles\n",
       "0       1          1              1      3        4   29562    112\n",
       "1       1          1              1      2        3   31836     75\n",
       "2       2          1              2      4        3   30699     66\n",
       "3       1          1              1      3        3   32973     85\n",
       "4       1          1              2      4        2   35247     47"
      ]
     },
     "execution_count": 17,
     "metadata": {},
     "output_type": "execute_result"
    }
   ],
   "source": [
    "X.head()"
   ]
  },
  {
   "cell_type": "markdown",
   "metadata": {
    "papermill": {
     "duration": 0.036339,
     "end_time": "2021-02-23T11:21:56.881477",
     "exception": false,
     "start_time": "2021-02-23T11:21:56.845138",
     "status": "completed"
    },
    "tags": []
   },
   "source": [
    "Changing the category of categorical variables"
   ]
  },
  {
   "cell_type": "code",
   "execution_count": 18,
   "metadata": {
    "execution": {
     "iopub.execute_input": "2021-02-23T11:21:56.966338Z",
     "iopub.status.busy": "2021-02-23T11:21:56.965285Z",
     "iopub.status.idle": "2021-02-23T11:21:56.968623Z",
     "shell.execute_reply": "2021-02-23T11:21:56.967924Z"
    },
    "papermill": {
     "duration": 0.050374,
     "end_time": "2021-02-23T11:21:56.968770",
     "exception": false,
     "start_time": "2021-02-23T11:21:56.918396",
     "status": "completed"
    },
    "tags": []
   },
   "outputs": [],
   "source": [
    "categorical_cols=['Gender','Age Group','MaritalStatus','Usage','Fitness']\n",
    "for col in X[categorical_cols]:\n",
    "    X[col]=X[col].astype('category')"
   ]
  },
  {
   "cell_type": "code",
   "execution_count": 19,
   "metadata": {
    "execution": {
     "iopub.execute_input": "2021-02-23T11:21:57.053026Z",
     "iopub.status.busy": "2021-02-23T11:21:57.051971Z",
     "iopub.status.idle": "2021-02-23T11:21:57.055482Z",
     "shell.execute_reply": "2021-02-23T11:21:57.054893Z"
    },
    "papermill": {
     "duration": 0.049486,
     "end_time": "2021-02-23T11:21:57.055652",
     "exception": false,
     "start_time": "2021-02-23T11:21:57.006166",
     "status": "completed"
    },
    "tags": []
   },
   "outputs": [],
   "source": [
    "X_train,X_val,y_train,y_val=train_test_split(X,y,test_size=0.1,random_state=42,shuffle=y)"
   ]
  },
  {
   "cell_type": "code",
   "execution_count": 20,
   "metadata": {
    "execution": {
     "iopub.execute_input": "2021-02-23T11:21:57.135013Z",
     "iopub.status.busy": "2021-02-23T11:21:57.134034Z",
     "iopub.status.idle": "2021-02-23T11:21:57.137570Z",
     "shell.execute_reply": "2021-02-23T11:21:57.138301Z"
    },
    "papermill": {
     "duration": 0.046623,
     "end_time": "2021-02-23T11:21:57.138530",
     "exception": false,
     "start_time": "2021-02-23T11:21:57.091907",
     "status": "completed"
    },
    "tags": []
   },
   "outputs": [
    {
     "name": "stdout",
     "output_type": "stream",
     "text": [
      "(162, 7)\n",
      "(18, 7)\n",
      "(162,)\n",
      "(18,)\n"
     ]
    }
   ],
   "source": [
    "print(X_train.shape)\n",
    "print(X_val.shape)\n",
    "print(y_train.shape)\n",
    "print(y_val.shape)"
   ]
  },
  {
   "cell_type": "markdown",
   "metadata": {
    "papermill": {
     "duration": 0.036493,
     "end_time": "2021-02-23T11:21:57.214195",
     "exception": false,
     "start_time": "2021-02-23T11:21:57.177702",
     "status": "completed"
    },
    "tags": []
   },
   "source": [
    "<h3>Scaling the data</h3>"
   ]
  },
  {
   "cell_type": "code",
   "execution_count": 21,
   "metadata": {
    "execution": {
     "iopub.execute_input": "2021-02-23T11:21:57.310131Z",
     "iopub.status.busy": "2021-02-23T11:21:57.309413Z",
     "iopub.status.idle": "2021-02-23T11:21:57.312661Z",
     "shell.execute_reply": "2021-02-23T11:21:57.312150Z"
    },
    "papermill": {
     "duration": 0.061748,
     "end_time": "2021-02-23T11:21:57.312806",
     "exception": false,
     "start_time": "2021-02-23T11:21:57.251058",
     "status": "completed"
    },
    "tags": []
   },
   "outputs": [],
   "source": [
    "sc=StandardScaler()\n",
    "ct=ColumnTransformer([('scaler',sc,[5,6])],remainder='passthrough')\n",
    "X_train=ct.fit_transform(X_train)\n",
    "X_val=ct.transform(X_val)"
   ]
  },
  {
   "cell_type": "markdown",
   "metadata": {
    "papermill": {
     "duration": 0.036706,
     "end_time": "2021-02-23T11:21:57.386406",
     "exception": false,
     "start_time": "2021-02-23T11:21:57.349700",
     "status": "completed"
    },
    "tags": []
   },
   "source": [
    "We have used column transformer here to scale the columns Income and Miles."
   ]
  },
  {
   "cell_type": "code",
   "execution_count": 22,
   "metadata": {
    "execution": {
     "iopub.execute_input": "2021-02-23T11:21:57.468639Z",
     "iopub.status.busy": "2021-02-23T11:21:57.467918Z",
     "iopub.status.idle": "2021-02-23T11:21:57.470603Z",
     "shell.execute_reply": "2021-02-23T11:21:57.471129Z"
    },
    "papermill": {
     "duration": 0.048045,
     "end_time": "2021-02-23T11:21:57.471309",
     "exception": false,
     "start_time": "2021-02-23T11:21:57.423264",
     "status": "completed"
    },
    "tags": []
   },
   "outputs": [],
   "source": [
    "X_train=pd.DataFrame(X_train,columns=['Income','Miles','Gender','Age Group','MaritalStatus','Usage','Fitness'])"
   ]
  },
  {
   "cell_type": "code",
   "execution_count": 23,
   "metadata": {
    "execution": {
     "iopub.execute_input": "2021-02-23T11:21:57.554795Z",
     "iopub.status.busy": "2021-02-23T11:21:57.553659Z",
     "iopub.status.idle": "2021-02-23T11:21:57.556801Z",
     "shell.execute_reply": "2021-02-23T11:21:57.556254Z"
    },
    "papermill": {
     "duration": 0.047079,
     "end_time": "2021-02-23T11:21:57.556995",
     "exception": false,
     "start_time": "2021-02-23T11:21:57.509916",
     "status": "completed"
    },
    "tags": []
   },
   "outputs": [],
   "source": [
    "X_val=pd.DataFrame(X_val,columns=['Income','Miles','Gender','Age Group','MaritalStatus','Usage','Fitness'])"
   ]
  },
  {
   "cell_type": "markdown",
   "metadata": {
    "papermill": {
     "duration": 0.038229,
     "end_time": "2021-02-23T11:21:57.635444",
     "exception": false,
     "start_time": "2021-02-23T11:21:57.597215",
     "status": "completed"
    },
    "tags": []
   },
   "source": [
    "<h3>We have selected 3 models for our classification task</h3>\n",
    "<ol>\n",
    "<li>Logistic Regression</li>\n",
    "<li>XGBoost</li>\n",
    "<li>K Nearest Neighbours</li>\n",
    "</ol>    "
   ]
  },
  {
   "cell_type": "code",
   "execution_count": 24,
   "metadata": {
    "execution": {
     "iopub.execute_input": "2021-02-23T11:21:57.720725Z",
     "iopub.status.busy": "2021-02-23T11:21:57.718143Z",
     "iopub.status.idle": "2021-02-23T11:21:57.750098Z",
     "shell.execute_reply": "2021-02-23T11:21:57.749395Z"
    },
    "papermill": {
     "duration": 0.077789,
     "end_time": "2021-02-23T11:21:57.750248",
     "exception": false,
     "start_time": "2021-02-23T11:21:57.672459",
     "status": "completed"
    },
    "tags": []
   },
   "outputs": [
    {
     "name": "stdout",
     "output_type": "stream",
     "text": [
      "Accuracy Score 72.22\n",
      "              precision    recall  f1-score   support\n",
      "\n",
      "       TM195       0.75      0.90      0.82        10\n",
      "       TM498       0.33      0.25      0.29         4\n",
      "       TM798       1.00      0.75      0.86         4\n",
      "\n",
      "    accuracy                           0.72        18\n",
      "   macro avg       0.69      0.63      0.65        18\n",
      "weighted avg       0.71      0.72      0.71        18\n",
      "\n"
     ]
    }
   ],
   "source": [
    "clf_log=LogisticRegression(C=0.1)\n",
    "clf_log.fit(X_train,y_train)\n",
    "log_y_preds=clf_log.predict(X_val)\n",
    "print('Accuracy Score %0.2f'%(100*accuracy_score(y_val,log_y_preds)))\n",
    "print(classification_report(y_val,log_y_preds))"
   ]
  },
  {
   "cell_type": "markdown",
   "metadata": {
    "papermill": {
     "duration": 0.038893,
     "end_time": "2021-02-23T11:21:57.828278",
     "exception": false,
     "start_time": "2021-02-23T11:21:57.789385",
     "status": "completed"
    },
    "tags": []
   },
   "source": [
    "We got a slightly decent 72%"
   ]
  },
  {
   "cell_type": "code",
   "execution_count": 25,
   "metadata": {
    "execution": {
     "iopub.execute_input": "2021-02-23T11:21:57.914153Z",
     "iopub.status.busy": "2021-02-23T11:21:57.913081Z",
     "iopub.status.idle": "2021-02-23T11:21:58.086331Z",
     "shell.execute_reply": "2021-02-23T11:21:58.087106Z"
    },
    "papermill": {
     "duration": 0.218778,
     "end_time": "2021-02-23T11:21:58.087319",
     "exception": false,
     "start_time": "2021-02-23T11:21:57.868541",
     "status": "completed"
    },
    "tags": []
   },
   "outputs": [
    {
     "name": "stdout",
     "output_type": "stream",
     "text": [
      "[11:21:57] WARNING: ../src/learner.cc:1061: Starting in XGBoost 1.3.0, the default evaluation metric used with the objective 'multi:softprob' was changed from 'merror' to 'mlogloss'. Explicitly set eval_metric if you'd like to restore the old behavior.\n",
      "Accuracy Score 77.78\n",
      "              precision    recall  f1-score   support\n",
      "\n",
      "       TM195       0.75      0.90      0.82        10\n",
      "       TM498       0.33      0.25      0.29         4\n",
      "       TM798       1.00      0.75      0.86         4\n",
      "\n",
      "    accuracy                           0.72        18\n",
      "   macro avg       0.69      0.63      0.65        18\n",
      "weighted avg       0.71      0.72      0.71        18\n",
      "\n"
     ]
    }
   ],
   "source": [
    "xg_clf=XGBClassifier(n_estimators=120,learning_rate=0.1)\n",
    "xg_clf.fit(X_train,y_train)\n",
    "xg_y_preds=xg_clf.predict(X_val)\n",
    "print('Accuracy Score %0.2f'%(100*accuracy_score(y_val,xg_y_preds)))\n",
    "print(classification_report(y_val,log_y_preds))"
   ]
  },
  {
   "cell_type": "markdown",
   "metadata": {
    "papermill": {
     "duration": 0.043501,
     "end_time": "2021-02-23T11:21:58.169896",
     "exception": false,
     "start_time": "2021-02-23T11:21:58.126395",
     "status": "completed"
    },
    "tags": []
   },
   "source": [
    "Wow! 6% bump up from logistic regression score"
   ]
  },
  {
   "cell_type": "code",
   "execution_count": 26,
   "metadata": {
    "execution": {
     "iopub.execute_input": "2021-02-23T11:21:58.266089Z",
     "iopub.status.busy": "2021-02-23T11:21:58.264852Z",
     "iopub.status.idle": "2021-02-23T11:21:58.291043Z",
     "shell.execute_reply": "2021-02-23T11:21:58.292040Z"
    },
    "papermill": {
     "duration": 0.07858,
     "end_time": "2021-02-23T11:21:58.292286",
     "exception": false,
     "start_time": "2021-02-23T11:21:58.213706",
     "status": "completed"
    },
    "tags": []
   },
   "outputs": [
    {
     "name": "stdout",
     "output_type": "stream",
     "text": [
      "Accuracy Score 55.56\n",
      "              precision    recall  f1-score   support\n",
      "\n",
      "       TM195       0.62      0.50      0.56        10\n",
      "       TM498       0.29      0.50      0.36         4\n",
      "       TM798       1.00      0.75      0.86         4\n",
      "\n",
      "    accuracy                           0.56        18\n",
      "   macro avg       0.64      0.58      0.59        18\n",
      "weighted avg       0.63      0.56      0.58        18\n",
      "\n"
     ]
    }
   ],
   "source": [
    "knn_clf=KNeighborsClassifier(n_neighbors=3)\n",
    "knn_clf.fit(X_train,y_train)\n",
    "knn_y_preds=knn_clf.predict(X_val)\n",
    "print('Accuracy Score %0.2f'%(100*accuracy_score(y_val,knn_y_preds)))\n",
    "print(classification_report(y_val,knn_y_preds))"
   ]
  },
  {
   "cell_type": "markdown",
   "metadata": {
    "papermill": {
     "duration": 0.040521,
     "end_time": "2021-02-23T11:21:58.374023",
     "exception": false,
     "start_time": "2021-02-23T11:21:58.333502",
     "status": "completed"
    },
    "tags": []
   },
   "source": [
    "XGBoost and KNN got a tie with both models getting the same accuracy score.<br>\n",
    "We can further bump up the score by tuning hyperparameters.<br>\n",
    "But lets not get into this"
   ]
  },
  {
   "cell_type": "markdown",
   "metadata": {
    "papermill": {
     "duration": 0.040929,
     "end_time": "2021-02-23T11:21:58.454991",
     "exception": false,
     "start_time": "2021-02-23T11:21:58.414062",
     "status": "completed"
    },
    "tags": []
   },
   "source": [
    "<h3>Lets try something new and model our data with ANN(Artificial Neural Network)</h3>"
   ]
  },
  {
   "cell_type": "code",
   "execution_count": 27,
   "metadata": {
    "execution": {
     "iopub.execute_input": "2021-02-23T11:21:58.546837Z",
     "iopub.status.busy": "2021-02-23T11:21:58.546189Z",
     "iopub.status.idle": "2021-02-23T11:21:58.672621Z",
     "shell.execute_reply": "2021-02-23T11:21:58.671574Z"
    },
    "papermill": {
     "duration": 0.175365,
     "end_time": "2021-02-23T11:21:58.672824",
     "exception": false,
     "start_time": "2021-02-23T11:21:58.497459",
     "status": "completed"
    },
    "tags": []
   },
   "outputs": [
    {
     "name": "stdout",
     "output_type": "stream",
     "text": [
      "Model: \"sequential\"\n",
      "_________________________________________________________________\n",
      "Layer (type)                 Output Shape              Param #   \n",
      "=================================================================\n",
      "dense (Dense)                (None, 64)                512       \n",
      "_________________________________________________________________\n",
      "dense_1 (Dense)              (None, 32)                2080      \n",
      "_________________________________________________________________\n",
      "dense_2 (Dense)              (None, 16)                528       \n",
      "_________________________________________________________________\n",
      "dropout (Dropout)            (None, 16)                0         \n",
      "_________________________________________________________________\n",
      "dense_3 (Dense)              (None, 3)                 51        \n",
      "=================================================================\n",
      "Total params: 3,171\n",
      "Trainable params: 3,171\n",
      "Non-trainable params: 0\n",
      "_________________________________________________________________\n"
     ]
    }
   ],
   "source": [
    "model=Sequential()\n",
    "model.add(Dense(64,input_dim=(7),activation='relu'))\n",
    "model.add(Dense(32,activation='relu'))\n",
    "model.add(Dense(16,activation='relu'))\n",
    "model.add(Dropout(0.5))\n",
    "model.add(Dense(3,activation='softmax'))\n",
    "model.compile(loss='categorical_crossentropy',optimizer='rmsprop',metrics=['accuracy'])\n",
    "model.summary()"
   ]
  },
  {
   "cell_type": "code",
   "execution_count": 28,
   "metadata": {
    "execution": {
     "iopub.execute_input": "2021-02-23T11:21:58.763010Z",
     "iopub.status.busy": "2021-02-23T11:21:58.762266Z",
     "iopub.status.idle": "2021-02-23T11:21:58.765881Z",
     "shell.execute_reply": "2021-02-23T11:21:58.765213Z"
    },
    "papermill": {
     "duration": 0.053289,
     "end_time": "2021-02-23T11:21:58.766048",
     "exception": false,
     "start_time": "2021-02-23T11:21:58.712759",
     "status": "completed"
    },
    "tags": []
   },
   "outputs": [],
   "source": [
    "y_train.value_counts()\n",
    "product_code={'TM195':1,'TM498':2,'TM798':3}\n",
    "y_train=y_train.map(product_code)\n",
    "y_val=y_val.map(product_code)\n",
    "y_train=pd.get_dummies(y_train)\n",
    "y_val=pd.get_dummies(y_val)"
   ]
  },
  {
   "cell_type": "code",
   "execution_count": 29,
   "metadata": {
    "execution": {
     "iopub.execute_input": "2021-02-23T11:21:58.854299Z",
     "iopub.status.busy": "2021-02-23T11:21:58.853323Z",
     "iopub.status.idle": "2021-02-23T11:21:58.858247Z",
     "shell.execute_reply": "2021-02-23T11:21:58.857655Z"
    },
    "papermill": {
     "duration": 0.050759,
     "end_time": "2021-02-23T11:21:58.858419",
     "exception": false,
     "start_time": "2021-02-23T11:21:58.807660",
     "status": "completed"
    },
    "tags": []
   },
   "outputs": [
    {
     "name": "stdout",
     "output_type": "stream",
     "text": [
      "(162, 3)\n",
      "(18, 3)\n"
     ]
    }
   ],
   "source": [
    "print(y_train.shape)\n",
    "print(y_val.shape)"
   ]
  },
  {
   "cell_type": "code",
   "execution_count": 30,
   "metadata": {
    "execution": {
     "iopub.execute_input": "2021-02-23T11:21:58.944968Z",
     "iopub.status.busy": "2021-02-23T11:21:58.944284Z",
     "iopub.status.idle": "2021-02-23T11:22:01.206107Z",
     "shell.execute_reply": "2021-02-23T11:22:01.205476Z"
    },
    "papermill": {
     "duration": 2.306483,
     "end_time": "2021-02-23T11:22:01.206265",
     "exception": false,
     "start_time": "2021-02-23T11:21:58.899782",
     "status": "completed"
    },
    "tags": []
   },
   "outputs": [
    {
     "name": "stdout",
     "output_type": "stream",
     "text": [
      "Epoch 1/100\n",
      "6/6 [==============================] - 1s 2ms/step - loss: 1.2409 - accuracy: 0.2632\n",
      "Epoch 2/100\n",
      "6/6 [==============================] - 0s 2ms/step - loss: 1.1101 - accuracy: 0.3525\n",
      "Epoch 3/100\n",
      "6/6 [==============================] - 0s 2ms/step - loss: 1.0715 - accuracy: 0.4096\n",
      "Epoch 4/100\n",
      "6/6 [==============================] - 0s 2ms/step - loss: 1.0461 - accuracy: 0.4513\n",
      "Epoch 5/100\n",
      "6/6 [==============================] - 0s 2ms/step - loss: 1.0454 - accuracy: 0.3789\n",
      "Epoch 6/100\n",
      "6/6 [==============================] - 0s 2ms/step - loss: 1.0267 - accuracy: 0.4493\n",
      "Epoch 7/100\n",
      "6/6 [==============================] - 0s 2ms/step - loss: 1.0271 - accuracy: 0.4743\n",
      "Epoch 8/100\n",
      "6/6 [==============================] - 0s 2ms/step - loss: 1.0062 - accuracy: 0.4873\n",
      "Epoch 9/100\n",
      "6/6 [==============================] - 0s 2ms/step - loss: 1.0165 - accuracy: 0.4983\n",
      "Epoch 10/100\n",
      "6/6 [==============================] - 0s 2ms/step - loss: 0.9892 - accuracy: 0.5150\n",
      "Epoch 11/100\n",
      "6/6 [==============================] - 0s 2ms/step - loss: 1.0051 - accuracy: 0.3995\n",
      "Epoch 12/100\n",
      "6/6 [==============================] - 0s 2ms/step - loss: 0.9561 - accuracy: 0.6089\n",
      "Epoch 13/100\n",
      "6/6 [==============================] - 0s 2ms/step - loss: 0.9476 - accuracy: 0.5913\n",
      "Epoch 14/100\n",
      "6/6 [==============================] - 0s 2ms/step - loss: 0.9475 - accuracy: 0.4549\n",
      "Epoch 15/100\n",
      "6/6 [==============================] - 0s 2ms/step - loss: 0.9200 - accuracy: 0.5847\n",
      "Epoch 16/100\n",
      "6/6 [==============================] - 0s 2ms/step - loss: 0.8982 - accuracy: 0.5164\n",
      "Epoch 17/100\n",
      "6/6 [==============================] - 0s 2ms/step - loss: 0.8728 - accuracy: 0.5330\n",
      "Epoch 18/100\n",
      "6/6 [==============================] - 0s 2ms/step - loss: 0.8527 - accuracy: 0.5537\n",
      "Epoch 19/100\n",
      "6/6 [==============================] - 0s 2ms/step - loss: 0.8069 - accuracy: 0.6188\n",
      "Epoch 20/100\n",
      "6/6 [==============================] - 0s 2ms/step - loss: 0.8284 - accuracy: 0.5284\n",
      "Epoch 21/100\n",
      "6/6 [==============================] - 0s 2ms/step - loss: 0.8501 - accuracy: 0.5163\n",
      "Epoch 22/100\n",
      "6/6 [==============================] - 0s 2ms/step - loss: 0.8353 - accuracy: 0.4570\n",
      "Epoch 23/100\n",
      "6/6 [==============================] - 0s 2ms/step - loss: 0.8028 - accuracy: 0.5445\n",
      "Epoch 24/100\n",
      "6/6 [==============================] - 0s 2ms/step - loss: 0.8216 - accuracy: 0.4899\n",
      "Epoch 25/100\n",
      "6/6 [==============================] - 0s 2ms/step - loss: 0.7625 - accuracy: 0.5932\n",
      "Epoch 26/100\n",
      "6/6 [==============================] - 0s 2ms/step - loss: 0.7302 - accuracy: 0.6319\n",
      "Epoch 27/100\n",
      "6/6 [==============================] - 0s 2ms/step - loss: 0.7578 - accuracy: 0.6008\n",
      "Epoch 28/100\n",
      "6/6 [==============================] - 0s 2ms/step - loss: 0.7606 - accuracy: 0.5242\n",
      "Epoch 29/100\n",
      "6/6 [==============================] - 0s 2ms/step - loss: 0.7583 - accuracy: 0.5920\n",
      "Epoch 30/100\n",
      "6/6 [==============================] - 0s 2ms/step - loss: 0.7318 - accuracy: 0.5826\n",
      "Epoch 31/100\n",
      "6/6 [==============================] - 0s 2ms/step - loss: 0.7702 - accuracy: 0.5422\n",
      "Epoch 32/100\n",
      "6/6 [==============================] - 0s 2ms/step - loss: 0.7709 - accuracy: 0.5332\n",
      "Epoch 33/100\n",
      "6/6 [==============================] - 0s 2ms/step - loss: 0.7167 - accuracy: 0.5919\n",
      "Epoch 34/100\n",
      "6/6 [==============================] - 0s 2ms/step - loss: 0.7298 - accuracy: 0.5573\n",
      "Epoch 35/100\n",
      "6/6 [==============================] - 0s 2ms/step - loss: 0.7269 - accuracy: 0.5626\n",
      "Epoch 36/100\n",
      "6/6 [==============================] - 0s 2ms/step - loss: 0.7632 - accuracy: 0.5307\n",
      "Epoch 37/100\n",
      "6/6 [==============================] - 0s 2ms/step - loss: 0.7768 - accuracy: 0.4900\n",
      "Epoch 38/100\n",
      "6/6 [==============================] - 0s 2ms/step - loss: 0.7433 - accuracy: 0.5588\n",
      "Epoch 39/100\n",
      "6/6 [==============================] - 0s 2ms/step - loss: 0.6713 - accuracy: 0.6621\n",
      "Epoch 40/100\n",
      "6/6 [==============================] - 0s 2ms/step - loss: 0.7420 - accuracy: 0.5059\n",
      "Epoch 41/100\n",
      "6/6 [==============================] - 0s 2ms/step - loss: 0.6420 - accuracy: 0.6738\n",
      "Epoch 42/100\n",
      "6/6 [==============================] - 0s 2ms/step - loss: 0.7201 - accuracy: 0.6029\n",
      "Epoch 43/100\n",
      "6/6 [==============================] - 0s 2ms/step - loss: 0.6648 - accuracy: 0.6452\n",
      "Epoch 44/100\n",
      "6/6 [==============================] - 0s 2ms/step - loss: 0.7017 - accuracy: 0.5600\n",
      "Epoch 45/100\n",
      "6/6 [==============================] - 0s 2ms/step - loss: 0.7189 - accuracy: 0.5776\n",
      "Epoch 46/100\n",
      "6/6 [==============================] - 0s 2ms/step - loss: 0.6461 - accuracy: 0.6764\n",
      "Epoch 47/100\n",
      "6/6 [==============================] - 0s 2ms/step - loss: 0.6838 - accuracy: 0.5956\n",
      "Epoch 48/100\n",
      "6/6 [==============================] - 0s 2ms/step - loss: 0.6994 - accuracy: 0.6294\n",
      "Epoch 49/100\n",
      "6/6 [==============================] - 0s 2ms/step - loss: 0.6718 - accuracy: 0.6079\n",
      "Epoch 50/100\n",
      "6/6 [==============================] - 0s 2ms/step - loss: 0.6644 - accuracy: 0.6365\n",
      "Epoch 51/100\n",
      "6/6 [==============================] - 0s 2ms/step - loss: 0.6736 - accuracy: 0.5152\n",
      "Epoch 52/100\n",
      "6/6 [==============================] - 0s 2ms/step - loss: 0.6670 - accuracy: 0.5950\n",
      "Epoch 53/100\n",
      "6/6 [==============================] - 0s 2ms/step - loss: 0.7154 - accuracy: 0.4989\n",
      "Epoch 54/100\n",
      "6/6 [==============================] - 0s 2ms/step - loss: 0.6748 - accuracy: 0.5508\n",
      "Epoch 55/100\n",
      "6/6 [==============================] - 0s 2ms/step - loss: 0.6642 - accuracy: 0.5863\n",
      "Epoch 56/100\n",
      "6/6 [==============================] - 0s 2ms/step - loss: 0.6830 - accuracy: 0.6318\n",
      "Epoch 57/100\n",
      "6/6 [==============================] - 0s 2ms/step - loss: 0.7207 - accuracy: 0.5472\n",
      "Epoch 58/100\n",
      "6/6 [==============================] - 0s 2ms/step - loss: 0.6903 - accuracy: 0.5444\n",
      "Epoch 59/100\n",
      "6/6 [==============================] - 0s 2ms/step - loss: 0.7099 - accuracy: 0.5399\n",
      "Epoch 60/100\n",
      "6/6 [==============================] - 0s 2ms/step - loss: 0.6346 - accuracy: 0.6433\n",
      "Epoch 61/100\n",
      "6/6 [==============================] - 0s 2ms/step - loss: 0.6682 - accuracy: 0.5731\n",
      "Epoch 62/100\n",
      "6/6 [==============================] - 0s 2ms/step - loss: 0.6508 - accuracy: 0.6068\n",
      "Epoch 63/100\n",
      "6/6 [==============================] - 0s 2ms/step - loss: 0.6988 - accuracy: 0.5823\n",
      "Epoch 64/100\n",
      "6/6 [==============================] - 0s 2ms/step - loss: 0.6536 - accuracy: 0.5792\n",
      "Epoch 65/100\n",
      "6/6 [==============================] - 0s 2ms/step - loss: 0.6397 - accuracy: 0.5968\n",
      "Epoch 66/100\n",
      "6/6 [==============================] - 0s 2ms/step - loss: 0.6151 - accuracy: 0.6880\n",
      "Epoch 67/100\n",
      "6/6 [==============================] - 0s 1ms/step - loss: 0.6526 - accuracy: 0.6180\n",
      "Epoch 68/100\n",
      "6/6 [==============================] - 0s 2ms/step - loss: 0.6873 - accuracy: 0.5807\n",
      "Epoch 69/100\n",
      "6/6 [==============================] - 0s 2ms/step - loss: 0.6310 - accuracy: 0.5967\n",
      "Epoch 70/100\n",
      "6/6 [==============================] - 0s 2ms/step - loss: 0.6238 - accuracy: 0.6945\n",
      "Epoch 71/100\n",
      "6/6 [==============================] - 0s 2ms/step - loss: 0.6927 - accuracy: 0.5511\n",
      "Epoch 72/100\n",
      "6/6 [==============================] - 0s 2ms/step - loss: 0.6546 - accuracy: 0.5652\n",
      "Epoch 73/100\n",
      "6/6 [==============================] - 0s 2ms/step - loss: 0.6336 - accuracy: 0.6649\n",
      "Epoch 74/100\n",
      "6/6 [==============================] - 0s 2ms/step - loss: 0.6731 - accuracy: 0.5066\n",
      "Epoch 75/100\n",
      "6/6 [==============================] - 0s 2ms/step - loss: 0.6340 - accuracy: 0.6083\n",
      "Epoch 76/100\n",
      "6/6 [==============================] - 0s 2ms/step - loss: 0.6641 - accuracy: 0.5534\n",
      "Epoch 77/100\n",
      "6/6 [==============================] - 0s 2ms/step - loss: 0.6498 - accuracy: 0.6263\n",
      "Epoch 78/100\n",
      "6/6 [==============================] - 0s 2ms/step - loss: 0.6807 - accuracy: 0.5399\n",
      "Epoch 79/100\n",
      "6/6 [==============================] - 0s 2ms/step - loss: 0.6801 - accuracy: 0.5902\n",
      "Epoch 80/100\n",
      "6/6 [==============================] - 0s 2ms/step - loss: 0.6299 - accuracy: 0.6047\n",
      "Epoch 81/100\n",
      "6/6 [==============================] - 0s 2ms/step - loss: 0.6503 - accuracy: 0.5627\n",
      "Epoch 82/100\n",
      "6/6 [==============================] - 0s 2ms/step - loss: 0.6199 - accuracy: 0.5886\n",
      "Epoch 83/100\n",
      "6/6 [==============================] - 0s 2ms/step - loss: 0.6464 - accuracy: 0.6139\n",
      "Epoch 84/100\n",
      "6/6 [==============================] - 0s 2ms/step - loss: 0.6458 - accuracy: 0.5453\n",
      "Epoch 85/100\n",
      "6/6 [==============================] - 0s 2ms/step - loss: 0.6134 - accuracy: 0.6636\n",
      "Epoch 86/100\n",
      "6/6 [==============================] - 0s 2ms/step - loss: 0.6111 - accuracy: 0.6231\n",
      "Epoch 87/100\n",
      "6/6 [==============================] - 0s 3ms/step - loss: 0.6228 - accuracy: 0.6871\n",
      "Epoch 88/100\n",
      "6/6 [==============================] - 0s 2ms/step - loss: 0.5811 - accuracy: 0.6896\n",
      "Epoch 89/100\n",
      "6/6 [==============================] - 0s 2ms/step - loss: 0.6347 - accuracy: 0.5720\n",
      "Epoch 90/100\n",
      "6/6 [==============================] - 0s 2ms/step - loss: 0.6236 - accuracy: 0.6141\n",
      "Epoch 91/100\n",
      "6/6 [==============================] - 0s 2ms/step - loss: 0.5936 - accuracy: 0.6131\n",
      "Epoch 92/100\n",
      "6/6 [==============================] - 0s 2ms/step - loss: 0.6272 - accuracy: 0.6288\n",
      "Epoch 93/100\n",
      "6/6 [==============================] - 0s 2ms/step - loss: 0.6149 - accuracy: 0.6055\n",
      "Epoch 94/100\n",
      "6/6 [==============================] - 0s 2ms/step - loss: 0.6147 - accuracy: 0.6250\n",
      "Epoch 95/100\n",
      "6/6 [==============================] - 0s 2ms/step - loss: 0.6394 - accuracy: 0.6290\n",
      "Epoch 96/100\n",
      "6/6 [==============================] - 0s 2ms/step - loss: 0.6474 - accuracy: 0.5935\n",
      "Epoch 97/100\n",
      "6/6 [==============================] - 0s 2ms/step - loss: 0.5826 - accuracy: 0.6881\n",
      "Epoch 98/100\n",
      "6/6 [==============================] - 0s 2ms/step - loss: 0.5959 - accuracy: 0.6491\n",
      "Epoch 99/100\n",
      "6/6 [==============================] - 0s 2ms/step - loss: 0.6803 - accuracy: 0.5612\n",
      "Epoch 100/100\n",
      "6/6 [==============================] - 0s 2ms/step - loss: 0.6068 - accuracy: 0.6649\n"
     ]
    },
    {
     "data": {
      "text/plain": [
       "<tensorflow.python.keras.callbacks.History at 0x7f908059e150>"
      ]
     },
     "execution_count": 30,
     "metadata": {},
     "output_type": "execute_result"
    }
   ],
   "source": [
    "model.fit(X_train,y_train,epochs=100,verbose=1)"
   ]
  },
  {
   "cell_type": "code",
   "execution_count": 31,
   "metadata": {
    "execution": {
     "iopub.execute_input": "2021-02-23T11:22:01.442228Z",
     "iopub.status.busy": "2021-02-23T11:22:01.441539Z",
     "iopub.status.idle": "2021-02-23T11:22:01.654746Z",
     "shell.execute_reply": "2021-02-23T11:22:01.654213Z"
    },
    "papermill": {
     "duration": 0.333139,
     "end_time": "2021-02-23T11:22:01.654898",
     "exception": false,
     "start_time": "2021-02-23T11:22:01.321759",
     "status": "completed"
    },
    "tags": []
   },
   "outputs": [
    {
     "name": "stdout",
     "output_type": "stream",
     "text": [
      "1/1 [==============================] - 0s 167ms/step - loss: 0.5273 - accuracy: 0.7778\n",
      "Accuracy is 77.78%\n"
     ]
    }
   ],
   "source": [
    "_,accuracy=model.evaluate(X_val,y_val)\n",
    "print('Accuracy is {:0.2f}%'.format(100*accuracy))"
   ]
  },
  {
   "cell_type": "markdown",
   "metadata": {
    "papermill": {
     "duration": 0.117946,
     "end_time": "2021-02-23T11:22:01.888918",
     "exception": false,
     "start_time": "2021-02-23T11:22:01.770972",
     "status": "completed"
    },
    "tags": []
   },
   "source": [
    "We got almost same accuracy as XGBoost and KNN.I feel this may be because of two reasons\n",
    "* Not many features to find the pattern\n",
    "* Not many samples to train"
   ]
  },
  {
   "cell_type": "markdown",
   "metadata": {
    "papermill": {
     "duration": 0.119835,
     "end_time": "2021-02-23T11:22:02.126344",
     "exception": false,
     "start_time": "2021-02-23T11:22:02.006509",
     "status": "completed"
    },
    "tags": []
   },
   "source": [
    "Please upvote if you find this kernel helpful."
   ]
  },
  {
   "cell_type": "markdown",
   "metadata": {
    "papermill": {
     "duration": 0.113816,
     "end_time": "2021-02-23T11:22:02.354011",
     "exception": false,
     "start_time": "2021-02-23T11:22:02.240195",
     "status": "completed"
    },
    "tags": []
   },
   "source": []
  }
 ],
 "metadata": {
  "kernelspec": {
   "display_name": "Python 3",
   "language": "python",
   "name": "python3"
  },
  "language_info": {
   "codemirror_mode": {
    "name": "ipython",
    "version": 3
   },
   "file_extension": ".py",
   "mimetype": "text/x-python",
   "name": "python",
   "nbconvert_exporter": "python",
   "pygments_lexer": "ipython3",
   "version": "3.7.9"
  },
  "papermill": {
   "default_parameters": {},
   "duration": 26.283977,
   "end_time": "2021-02-23T11:22:03.682458",
   "environment_variables": {},
   "exception": null,
   "input_path": "__notebook__.ipynb",
   "output_path": "__notebook__.ipynb",
   "parameters": {},
   "start_time": "2021-02-23T11:21:37.398481",
   "version": "2.2.2"
  }
 },
 "nbformat": 4,
 "nbformat_minor": 4
}
